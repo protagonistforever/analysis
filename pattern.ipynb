{
  "cells": [
    {
      "cell_type": "markdown",
      "metadata": {
        "id": "view-in-github",
        "colab_type": "text"
      },
      "source": [
        "<a href=\"https://colab.research.google.com/github/protagonistforever/analysis/blob/main/pattern.ipynb\" target=\"_parent\"><img src=\"https://colab.research.google.com/assets/colab-badge.svg\" alt=\"Open In Colab\"/></a>"
      ]
    },
    {
      "cell_type": "markdown",
      "metadata": {
        "id": "wDtHDTuE8sha"
      },
      "source": [
        "PAT1\n"
      ]
    },
    {
      "cell_type": "code",
      "execution_count": null,
      "metadata": {
        "colab": {
          "base_uri": "https://localhost:8080/"
        },
        "id": "cViailXU83cG",
        "outputId": "f861d8ca-0ea4-42cd-9e27-1f5fb492a4dc"
      },
      "outputs": [
        {
          "name": "stdout",
          "output_type": "stream",
          "text": [
            "enter the number of levels5\n",
            "#\n",
            "##\n",
            "###\n",
            "####\n",
            "#####\n"
          ]
        }
      ],
      "source": [
        "for i in range(1,int(input(\"enter the number of levels: \"))+1):\n",
        "  print(i*'#')"
      ]
    },
    {
      "cell_type": "code",
      "execution_count": null,
      "metadata": {
        "colab": {
          "base_uri": "https://localhost:8080/"
        },
        "id": "x6OOaipR9Ie_",
        "outputId": "c3d62c98-b67b-41b1-eaa2-b7ef3cc78e20"
      },
      "outputs": [
        {
          "name": "stdout",
          "output_type": "stream",
          "text": [
            "enter the number of levels: 4\n",
            "####\n",
            "###\n",
            "##\n",
            "#\n"
          ]
        }
      ],
      "source": [
        "n=int(input(\"enter the number of levels: \"))\n",
        "for i in range(n):\n",
        "  print((n-i)*'#')"
      ]
    },
    {
      "cell_type": "code",
      "execution_count": null,
      "metadata": {
        "colab": {
          "base_uri": "https://localhost:8080/"
        },
        "id": "fX2-x-559Ozh",
        "outputId": "272ac981-7b8f-401a-d602-b3ce87597ea2"
      },
      "outputs": [
        {
          "name": "stdout",
          "output_type": "stream",
          "text": [
            "enter the number of levels: 5\n",
            "aaaaa\n",
            "bbbb\n",
            "ccc\n",
            "dd\n",
            "e\n"
          ]
        }
      ],
      "source": [
        "n=int(input(\"enter the number of levels: \"))\n",
        "for i in range(n):\n",
        "  print((n-i)*chr(ord('a')+i))\n"
      ]
    },
    {
      "cell_type": "code",
      "execution_count": null,
      "metadata": {
        "colab": {
          "background_save": true,
          "base_uri": "https://localhost:8080/"
        },
        "id": "1RxYhkmn99GB",
        "outputId": "1130de77-70a1-4726-f3a4-0cacf2cfe2e0"
      },
      "outputs": [
        {
          "name": "stdout",
          "output_type": "stream",
          "text": [
            "a\n",
            "bb\n",
            "ccc\n",
            "dddd\n"
          ]
        }
      ],
      "source": [
        "n=int(input(\"enter the number of levels: \"))\n",
        "for i in range(n):\n",
        "  print((i+1)*chr(ord('a')+i))\n"
      ]
    },
    {
      "cell_type": "code",
      "execution_count": null,
      "metadata": {
        "id": "ri1F2jcQ_AMY"
      },
      "outputs": [],
      "source": []
    }
  ],
  "metadata": {
    "colab": {
      "provenance": [],
      "authorship_tag": "ABX9TyPLMZ19T5nTSDBJylXYrlT6",
      "include_colab_link": true
    },
    "kernelspec": {
      "display_name": "Python 3",
      "name": "python3"
    },
    "language_info": {
      "name": "python"
    }
  },
  "nbformat": 4,
  "nbformat_minor": 0
}