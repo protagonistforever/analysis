{
  "nbformat": 4,
  "nbformat_minor": 0,
  "metadata": {
    "colab": {
      "provenance": [],
      "authorship_tag": "ABX9TyMIDDM/jHTmjXvXtMsjyaUK",
      "include_colab_link": true
    },
    "kernelspec": {
      "name": "python3",
      "display_name": "Python 3"
    },
    "language_info": {
      "name": "python"
    }
  },
  "cells": [
    {
      "cell_type": "markdown",
      "metadata": {
        "id": "view-in-github",
        "colab_type": "text"
      },
      "source": [
        "<a href=\"https://colab.research.google.com/github/protagonistforever/analysis/blob/main/slr.ipynb\" target=\"_parent\"><img src=\"https://colab.research.google.com/assets/colab-badge.svg\" alt=\"Open In Colab\"/></a>"
      ]
    },
    {
      "cell_type": "code",
      "execution_count": null,
      "metadata": {
        "id": "HwKV9NrHX_1G"
      },
      "outputs": [],
      "source": [
        "#make prediction function"
      ]
    },
    {
      "cell_type": "code",
      "source": [
        "def y_hat(params,x):\n",
        "  return b_0 + b_1*x\n",
        "#make MSE :\n",
        "def mse(ys,y_hats):\n",
        "  n=len(ys)\n",
        "  total_sq_loss=0\n",
        "  for i in range(n):\n",
        "    y_i=ys[i]\n",
        "    y_i_hat=y_hats[i]\n",
        "    diff_i=y_i-y_i_hat\n",
        "    diff_sq=diff_i*diff_i\n",
        "    t_s_q=diff_sq\n",
        "  return t_s_q/n\n",
        "def mean(lst):\n",
        "  n=len(lst)\n",
        "  return sum(lst)/n\n",
        "params={'b_0':1,'b_1':2}\n",
        "def train_params(xs,ys,params):\n",
        "  x_bar=mean(xs)\n",
        "  n=len(xs)\n",
        "  y_bar=mean(ys)\n",
        "  numerator_total=0\n",
        "  denom_total=0\n",
        "  for i in range(n):\n",
        "    x_i=xs[i]\n",
        "    y_i=ys[i]\n",
        "    diff_i=y_i-y_bar\n",
        "    multed_i=x_i*diff_i\n",
        "    numerator_total+=multed_i\n",
        "  for i in range(n):\n",
        "    x_i=xs[i]\n",
        "    diff_i=x_i-x_bar\n",
        "    multed_i=x_i*diff_i\n",
        "    denom_total+=multed_i\n",
        "  new_b1=numerator_total/denom_total\n",
        "  new_b0=y_bar-new_b1*x_bar\n",
        "  params['b_0']=new_b0\n",
        "  params[\"b_1\"]=new_b1\n"
      ],
      "metadata": {
        "id": "sd5NqG44YPYW"
      },
      "execution_count": null,
      "outputs": []
    },
    {
      "cell_type": "code",
      "source": [
        "import random\n",
        "import matplotlib.pyplot as plt\n",
        "def generate(params,x_lower,x_upper,n):\n",
        "  x_lst=[]\n",
        "  y_lst=[]\n",
        "  b_0=params['b_0']\n",
        "  b_1=params['b_1']\n",
        "  for i in range(n):\n",
        "    x_i=random.uniform(x_lower,x_upper)\n",
        "    x_lst.append(x_i)\n",
        "    y_i=b_0+b_1*x_i + random.uniform(-1,1)\n",
        "    y_lst.append(y_i)\n",
        "  return (x_lst,y_lst)\n",
        "data_generating_params={'b_0':1,'b_1':2}\n",
        "data=generate(data_generating_params,-2,3,20)\n",
        "x_lst=data[0]\n",
        "y_lst=data[1]\n",
        "\n",
        "def get_predictions(x_lst,params):\n",
        "  predictions=[]\n",
        "  n=len(x_lst)\n",
        "  for i in range(n):\n",
        "    x_i=x_lst[i]\n",
        "    prediction_i=y_hat(params,x_i)\n",
        "    predictions.append(prediction_i)\n",
        "  return predictions\n",
        "model_params={'b_0':0,'b_1':1}\n",
        "train_params(x_lst,y_lst,model_params)\n",
        "predictions=get_predictions(x_lst,model_params)\n",
        "predictions\n",
        "plt.plot(x_lst,predictions)\n",
        "plt.scatter(x_lst,y_lst,c='r')\n",
        "# x=[1,2,3,4]\n",
        "# b_0=2\n",
        "# b_1=3\n",
        "# y=[b_0+b_1*1+random.uniform(-1,1),b_0+b_1*2+random.uniform(-1,1),b_0+b_1*3+random.uniform(-1,1),b_0+b_1*4+random.uniform(-1,1)]\n",
        "# plt.scatter(x,y)"
      ],
      "metadata": {
        "colab": {
          "base_uri": "https://localhost:8080/",
          "height": 447
        },
        "id": "q9tCR83tZ0zr",
        "outputId": "770be3a7-6208-4226-e3a4-c5a724a693de"
      },
      "execution_count": null,
      "outputs": [
        {
          "output_type": "execute_result",
          "data": {
            "text/plain": [
              "<matplotlib.collections.PathCollection at 0x7c4dc5401ea0>"
            ]
          },
          "metadata": {},
          "execution_count": 39
        },
        {
          "output_type": "display_data",
          "data": {
            "text/plain": [
              "<Figure size 640x480 with 1 Axes>"
            ],
            "image/png": "[encoded data removed]"
          },
          "metadata": {}
        }
      ]
    },
    {
      "cell_type": "code",
      "source": [],
      "metadata": {
        "id": "J_XPuV_Ac0S8"
      },
      "execution_count": null,
      "outputs": []
    }
  ]
}